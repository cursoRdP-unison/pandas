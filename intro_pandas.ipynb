{
 "cells": [
  {
   "cell_type": "markdown",
   "metadata": {},
   "source": [
    "# Una Introducción a Pandas"
   ]
  },
  {
   "cell_type": "markdown",
   "metadata": {},
   "source": [
    "Esta libreta es una modificación (sin muchos cambios) de la introducción a Pandas realizada por Julians Evans y que se encuentra dentro de la (documentación oficial de Pandas)[https://github.com/jvns/pandas-cookbook], Unas cosas se redujeron, y otras se dejaron en forma de ejercicios para practicar diferentes cosas."
   ]
  },
  {
   "cell_type": "code",
   "execution_count": 1,
   "metadata": {
    "collapsed": false
   },
   "outputs": [],
   "source": [
    "# Figuras en linea\n",
    "import matplotlib\n",
    "%matplotlib inline\n",
    "\n",
    "import numpy as np\n",
    "import pandas as pd\n",
    "import matplotlib.pyplot as plt\n",
    "plt.rcParams['figure.figsize'] = (15, 5)      # Tamaño de las gráficas\n",
    "\n",
    "matplotlib.style.use('ggplot')\n",
    "\n"
   ]
  },
  {
   "cell_type": "markdown",
   "metadata": {},
   "source": [
    "# 1. Un ejemplo con bicicletas"
   ]
  },
  {
   "cell_type": "markdown",
   "metadata": {},
   "source": [
    "## 1.1 Leyendo datos de un archivo csv"
   ]
  },
  {
   "cell_type": "markdown",
   "metadata": {},
   "source": [
    "Para leer archivos CSV, se utiliza la función `read_csv`. Por default se asume la coma como el indicador de separación. Vamos a ver un conjunto de datos sobre [ciclistas en la ciudad de Montreal](http://donnees.ville.montreal.qc.ca/dataset/velos-comptage). Los cuales se encuentran ya descargados. Esta base de datos describe la cantidad de ciclistas que transitaron por 7 diferentes rutas por día."
   ]
  },
  {
   "cell_type": "code",
   "execution_count": 2,
   "metadata": {
    "collapsed": false
   },
   "outputs": [],
   "source": [
    "broken_df = pd.read_csv('bikes.csv')"
   ]
  },
  {
   "cell_type": "code",
   "execution_count": 3,
   "metadata": {
    "collapsed": false
   },
   "outputs": [
    {
     "data": {
      "text/html": [
       "<div>\n",
       "<table border=\"1\" class=\"dataframe\">\n",
       "  <thead>\n",
       "    <tr style=\"text-align: right;\">\n",
       "      <th></th>\n",
       "      <th>Date;Berri 1;Br�beuf (donn�es non disponibles);C�te-Sainte-Catherine;Maisonneuve 1;Maisonneuve 2;du Parc;Pierre-Dupuy;Rachel1;St-Urbain (donn�es non disponibles)</th>\n",
       "    </tr>\n",
       "  </thead>\n",
       "  <tbody>\n",
       "    <tr>\n",
       "      <th>0</th>\n",
       "      <td>01/01/2012;35;;0;38;51;26;10;16;</td>\n",
       "    </tr>\n",
       "    <tr>\n",
       "      <th>1</th>\n",
       "      <td>02/01/2012;83;;1;68;153;53;6;43;</td>\n",
       "    </tr>\n",
       "    <tr>\n",
       "      <th>2</th>\n",
       "      <td>03/01/2012;135;;2;104;248;89;3;58;</td>\n",
       "    </tr>\n",
       "    <tr>\n",
       "      <th>3</th>\n",
       "      <td>04/01/2012;144;;1;116;318;111;8;61;</td>\n",
       "    </tr>\n",
       "  </tbody>\n",
       "</table>\n",
       "</div>"
      ],
      "text/plain": [
       "  Date;Berri 1;Br�beuf (donn�es non disponibles);C�te-Sainte-Catherine;Maisonneuve 1;Maisonneuve 2;du Parc;Pierre-Dupuy;Rachel1;St-Urbain (donn�es non disponibles)\n",
       "0                   01/01/2012;35;;0;38;51;26;10;16;                                                                                                               \n",
       "1                   02/01/2012;83;;1;68;153;53;6;43;                                                                                                               \n",
       "2                 03/01/2012;135;;2;104;248;89;3;58;                                                                                                               \n",
       "3                04/01/2012;144;;1;116;318;111;8;61;                                                                                                               "
      ]
     },
     "execution_count": 3,
     "metadata": {},
     "output_type": "execute_result"
    }
   ],
   "source": [
    "# Vamos a ver las 3 primeras entradas\n",
    "broken_df[:4]\n",
    "\n"
   ]
  },
  {
   "cell_type": "markdown",
   "metadata": {},
   "source": [
    "Ups! Así, los datos no son útiles. Afortunadamente, `read_csv` viene con un montón de opciones para ajustarse a los diferentes archivos CSV. En particular es necesario:\n",
    "\n",
    "* cambiar el indicador de columna por  `;`\n",
    "* Cambiar la codificación por `'latin1'` (por default es `'utf8'`)\n",
    "* Transformar los datos de la columna `Date` a algun tipo estandar `datetime`  \n",
    "* Avisar que el estilo de los datos es francés (como en español) esto es día/mes/año\n",
    "* Hacer que el índice sea la columna `Date`"
   ]
  },
  {
   "cell_type": "code",
   "execution_count": 42,
   "metadata": {
    "collapsed": false
   },
   "outputs": [
    {
     "name": "stdout",
     "output_type": "stream",
     "text": [
      "            Maisonneuve 1  Maisonneuve 2  du Parc\n",
      "Date                                             \n",
      "2012-01-03            104            248       89\n",
      "2012-01-04            116            318      111\n",
      "2012-01-05            124            330       97\n",
      "2012-01-06             98            244       86\n"
     ]
    }
   ],
   "source": [
    "fixed_df = pd.read_csv('bikes.csv', sep=';', encoding='latin1', parse_dates=['Date'], dayfirst=True, index_col='Date')\n",
    "#fixed_df[:4]\n",
    "#significa desde el renglon 2 hasta (6-1)\n",
    "fixed_df[2:6]\n",
    "#fixed_df.ix[a:b,c:d]\n",
    "    #donde a=renglon inicial, b=renglon final-1\n",
    "    #c=columna inicial, d=columna final-1\n",
    "    \n",
    "df1 = fixed_df.ix[2:6,3:6]\n",
    "print df1\n",
    "\n"
   ]
  },
  {
   "cell_type": "code",
   "execution_count": 5,
   "metadata": {
    "collapsed": false,
    "scrolled": false
   },
   "outputs": [
    {
     "data": {
      "text/html": [
       "<div>\n",
       "<table border=\"1\" class=\"dataframe\">\n",
       "  <thead>\n",
       "    <tr style=\"text-align: right;\">\n",
       "      <th></th>\n",
       "      <th>Berri 1</th>\n",
       "      <th>Brébeuf (données non disponibles)</th>\n",
       "      <th>Côte-Sainte-Catherine</th>\n",
       "      <th>Maisonneuve 1</th>\n",
       "      <th>Maisonneuve 2</th>\n",
       "      <th>du Parc</th>\n",
       "      <th>Pierre-Dupuy</th>\n",
       "      <th>Rachel1</th>\n",
       "      <th>St-Urbain (données non disponibles)</th>\n",
       "    </tr>\n",
       "  </thead>\n",
       "  <tbody>\n",
       "    <tr>\n",
       "      <th>count</th>\n",
       "      <td>310.000000</td>\n",
       "      <td>0</td>\n",
       "      <td>310.000000</td>\n",
       "      <td>310.000000</td>\n",
       "      <td>310.000000</td>\n",
       "      <td>310.000000</td>\n",
       "      <td>310.000000</td>\n",
       "      <td>310.000000</td>\n",
       "      <td>0</td>\n",
       "    </tr>\n",
       "    <tr>\n",
       "      <th>mean</th>\n",
       "      <td>2985.048387</td>\n",
       "      <td>NaN</td>\n",
       "      <td>1233.351613</td>\n",
       "      <td>1983.325806</td>\n",
       "      <td>3510.261290</td>\n",
       "      <td>1862.983871</td>\n",
       "      <td>1054.306452</td>\n",
       "      <td>2873.483871</td>\n",
       "      <td>NaN</td>\n",
       "    </tr>\n",
       "    <tr>\n",
       "      <th>std</th>\n",
       "      <td>2169.271062</td>\n",
       "      <td>NaN</td>\n",
       "      <td>944.643188</td>\n",
       "      <td>1450.715170</td>\n",
       "      <td>2484.959789</td>\n",
       "      <td>1332.543266</td>\n",
       "      <td>1064.029205</td>\n",
       "      <td>2039.315504</td>\n",
       "      <td>NaN</td>\n",
       "    </tr>\n",
       "    <tr>\n",
       "      <th>min</th>\n",
       "      <td>32.000000</td>\n",
       "      <td>NaN</td>\n",
       "      <td>0.000000</td>\n",
       "      <td>33.000000</td>\n",
       "      <td>47.000000</td>\n",
       "      <td>18.000000</td>\n",
       "      <td>0.000000</td>\n",
       "      <td>0.000000</td>\n",
       "      <td>NaN</td>\n",
       "    </tr>\n",
       "    <tr>\n",
       "      <th>25%</th>\n",
       "      <td>596.000000</td>\n",
       "      <td>NaN</td>\n",
       "      <td>243.250000</td>\n",
       "      <td>427.000000</td>\n",
       "      <td>831.000000</td>\n",
       "      <td>474.750000</td>\n",
       "      <td>53.250000</td>\n",
       "      <td>731.000000</td>\n",
       "      <td>NaN</td>\n",
       "    </tr>\n",
       "    <tr>\n",
       "      <th>50%</th>\n",
       "      <td>3128.000000</td>\n",
       "      <td>NaN</td>\n",
       "      <td>1269.000000</td>\n",
       "      <td>2019.500000</td>\n",
       "      <td>3688.500000</td>\n",
       "      <td>1822.500000</td>\n",
       "      <td>704.000000</td>\n",
       "      <td>3223.500000</td>\n",
       "      <td>NaN</td>\n",
       "    </tr>\n",
       "    <tr>\n",
       "      <th>75%</th>\n",
       "      <td>4973.250000</td>\n",
       "      <td>NaN</td>\n",
       "      <td>2003.000000</td>\n",
       "      <td>3168.250000</td>\n",
       "      <td>5731.750000</td>\n",
       "      <td>3069.000000</td>\n",
       "      <td>1818.500000</td>\n",
       "      <td>4717.250000</td>\n",
       "      <td>NaN</td>\n",
       "    </tr>\n",
       "    <tr>\n",
       "      <th>max</th>\n",
       "      <td>7077.000000</td>\n",
       "      <td>NaN</td>\n",
       "      <td>3124.000000</td>\n",
       "      <td>4999.000000</td>\n",
       "      <td>8222.000000</td>\n",
       "      <td>4510.000000</td>\n",
       "      <td>4386.000000</td>\n",
       "      <td>6595.000000</td>\n",
       "      <td>NaN</td>\n",
       "    </tr>\n",
       "  </tbody>\n",
       "</table>\n",
       "</div>"
      ],
      "text/plain": [
       "           Berri 1  Brébeuf (données non disponibles)  Côte-Sainte-Catherine  \\\n",
       "count   310.000000                                  0             310.000000   \n",
       "mean   2985.048387                                NaN            1233.351613   \n",
       "std    2169.271062                                NaN             944.643188   \n",
       "min      32.000000                                NaN               0.000000   \n",
       "25%     596.000000                                NaN             243.250000   \n",
       "50%    3128.000000                                NaN            1269.000000   \n",
       "75%    4973.250000                                NaN            2003.000000   \n",
       "max    7077.000000                                NaN            3124.000000   \n",
       "\n",
       "       Maisonneuve 1  Maisonneuve 2      du Parc  Pierre-Dupuy      Rachel1  \\\n",
       "count     310.000000     310.000000   310.000000    310.000000   310.000000   \n",
       "mean     1983.325806    3510.261290  1862.983871   1054.306452  2873.483871   \n",
       "std      1450.715170    2484.959789  1332.543266   1064.029205  2039.315504   \n",
       "min        33.000000      47.000000    18.000000      0.000000     0.000000   \n",
       "25%       427.000000     831.000000   474.750000     53.250000   731.000000   \n",
       "50%      2019.500000    3688.500000  1822.500000    704.000000  3223.500000   \n",
       "75%      3168.250000    5731.750000  3069.000000   1818.500000  4717.250000   \n",
       "max      4999.000000    8222.000000  4510.000000   4386.000000  6595.000000   \n",
       "\n",
       "       St-Urbain (données non disponibles)  \n",
       "count                                    0  \n",
       "mean                                   NaN  \n",
       "std                                    NaN  \n",
       "min                                    NaN  \n",
       "25%                                    NaN  \n",
       "50%                                    NaN  \n",
       "75%                                    NaN  \n",
       "max                                    NaN  "
      ]
     },
     "execution_count": 5,
     "metadata": {},
     "output_type": "execute_result"
    }
   ],
   "source": [
    "fixed_df.describe()"
   ]
  },
  {
   "cell_type": "markdown",
   "metadata": {},
   "source": [
    "## 1.2 Seleccionar columnas"
   ]
  },
  {
   "cell_type": "code",
   "execution_count": 26,
   "metadata": {
    "collapsed": false
   },
   "outputs": [
    {
     "data": {
      "text/html": [
       "<div>\n",
       "<table border=\"1\" class=\"dataframe\">\n",
       "  <thead>\n",
       "    <tr style=\"text-align: right;\">\n",
       "      <th></th>\n",
       "      <th>Berri 1</th>\n",
       "      <th>Brébeuf (données non disponibles)</th>\n",
       "      <th>Côte-Sainte-Catherine</th>\n",
       "      <th>Maisonneuve 1</th>\n",
       "      <th>Maisonneuve 2</th>\n",
       "      <th>du Parc</th>\n",
       "      <th>Pierre-Dupuy</th>\n",
       "      <th>Rachel1</th>\n",
       "      <th>St-Urbain (données non disponibles)</th>\n",
       "    </tr>\n",
       "    <tr>\n",
       "      <th>Date</th>\n",
       "      <th></th>\n",
       "      <th></th>\n",
       "      <th></th>\n",
       "      <th></th>\n",
       "      <th></th>\n",
       "      <th></th>\n",
       "      <th></th>\n",
       "      <th></th>\n",
       "      <th></th>\n",
       "    </tr>\n",
       "  </thead>\n",
       "  <tbody>\n",
       "    <tr>\n",
       "      <th>2012-01-01</th>\n",
       "      <td>35</td>\n",
       "      <td>NaN</td>\n",
       "      <td>0</td>\n",
       "      <td>38</td>\n",
       "      <td>51</td>\n",
       "      <td>26</td>\n",
       "      <td>10</td>\n",
       "      <td>16</td>\n",
       "      <td>NaN</td>\n",
       "    </tr>\n",
       "    <tr>\n",
       "      <th>2012-01-14</th>\n",
       "      <td>32</td>\n",
       "      <td>NaN</td>\n",
       "      <td>0</td>\n",
       "      <td>54</td>\n",
       "      <td>56</td>\n",
       "      <td>19</td>\n",
       "      <td>0</td>\n",
       "      <td>1</td>\n",
       "      <td>NaN</td>\n",
       "    </tr>\n",
       "  </tbody>\n",
       "</table>\n",
       "</div>"
      ],
      "text/plain": [
       "            Berri 1  Brébeuf (données non disponibles)  Côte-Sainte-Catherine  \\\n",
       "Date                                                                            \n",
       "2012-01-01       35                                NaN                      0   \n",
       "2012-01-14       32                                NaN                      0   \n",
       "\n",
       "            Maisonneuve 1  Maisonneuve 2  du Parc  Pierre-Dupuy  Rachel1  \\\n",
       "Date                                                                       \n",
       "2012-01-01             38             51       26            10       16   \n",
       "2012-01-14             54             56       19             0        1   \n",
       "\n",
       "            St-Urbain (données non disponibles)  \n",
       "Date                                             \n",
       "2012-01-01                                  NaN  \n",
       "2012-01-14                                  NaN  "
      ]
     },
     "execution_count": 26,
     "metadata": {},
     "output_type": "execute_result"
    }
   ],
   "source": [
    "#fixed_df['Berri 1']\n",
    "#fixed_df.columns\n",
    "\n",
    "##para resultados entre 30 y 40 de la columna Berri 1\n",
    "fixed_df.loc[(fixed_df[\"Berri 1\"] > 30) & (fixed_df[\"Berri 1\"]<40) ]  \n"
   ]
  },
  {
   "cell_type": "markdown",
   "metadata": {},
   "source": [
    " 1.3 Graficar datos"
   ]
  },
  {
   "cell_type": "code",
   "execution_count": 28,
   "metadata": {
    "collapsed": false
   },
   "outputs": [
    {
     "data": {
      "text/plain": [
       "<matplotlib.axes._subplots.AxesSubplot at 0xba3c5c0>"
      ]
     },
     "execution_count": 28,
     "metadata": {},
     "output_type": "execute_result"
    },
    {
     "data": {
      "image/png": "[encoded data removed]",
      "text/plain": [
       "<matplotlib.figure.Figure at 0xb552940>"
      ]
     },
     "metadata": {},
     "output_type": "display_data"
    }
   ],
   "source": [
    "#fixed_df['Berri 1'].plot()\n",
    "fixed_df.loc[(fixed_df[\"Berri 1\"] > 30) & (fixed_df[\"Berri 1\"]<40) ].plot()"
   ]
  },
  {
   "cell_type": "markdown",
   "metadata": {},
   "source": [
    "Igualmente se pueden graficar todos los días al mismo tiempo. Para ver mejor habrá que hacer un poco más grande la figura. Si bien es poco lo que se puede sacar de conclusión en este gráfico, se puede observar que el comportamiento de todos los caminos son más o menos parecidos. Igualmente, por las estacones, podríamos asociar de alguna manera el comportaiento de los ciclistas con el clima."
   ]
  },
  {
   "cell_type": "code",
   "execution_count": null,
   "metadata": {
    "collapsed": false
   },
   "outputs": [],
   "source": [
    "fixed_df.plot(figsize=(15, 10))"
   ]
  },
  {
   "cell_type": "markdown",
   "metadata": {},
   "source": [
    "### Ejercicio1 (20 puntos): Grafica 3 rutas únicamente desde la entrada 130 a la 160 (los días del verano)"
   ]
  },
  {
   "cell_type": "code",
   "execution_count": 45,
   "metadata": {
    "collapsed": false
   },
   "outputs": [
    {
     "name": "stdout",
     "output_type": "stream",
     "text": [
      "los datos a graficar son:\n",
      "            Maisonneuve 1  Maisonneuve 2  du Parc\n",
      "Date                                             \n",
      "2012-05-10           2130           4056     2075\n",
      "2012-05-11           3663           5713     2888\n",
      "2012-05-12           2429           3894     1805\n",
      "2012-05-13           1703           3086     1592\n",
      "2012-05-14           4402           7006     3868\n",
      "2012-05-15           3144           5088     2650\n",
      "2012-05-16           3681           5882     3057\n",
      "2012-05-17           4182           6551     3408\n",
      "2012-05-18           4415           6646     3196\n",
      "2012-05-19           2807           4673     1966\n",
      "2012-05-20           2730           4462     2182\n",
      "2012-05-21           2672           4169     2044\n",
      "2012-05-22           1847           2599     1610\n",
      "2012-05-23           4407           7281     3737\n",
      "2012-05-24           4600           7600     3792\n",
      "2012-05-25           4096           6734     3341\n",
      "2012-05-26           2936           4991     2373\n",
      "2012-05-27           2578           4587     2073\n",
      "2012-05-28           3449           5798     2898\n",
      "2012-05-29           2325           3904     1933\n",
      "2012-05-30           4806           7632     3817\n",
      "2012-05-31           3985           6631     3205\n",
      "2012-06-01           4110           7175     3895\n",
      "2012-06-02            630           1289      628\n",
      "2012-06-03           2020           3768     2324\n",
      "2012-06-04           2095           4276     2168\n",
      "2012-06-05           3927           7302     3786\n",
      "2012-06-06           4273           7822     3987\n",
      "2012-06-07           4670           8222     3972\n",
      "2012-06-08           3303           5881     3001\n"
     ]
    },
    {
     "data": {
      "image/png": "[encoded data removed]",
      "text/plain": [
       "<matplotlib.figure.Figure at 0xd5bdac8>"
      ]
     },
     "metadata": {},
     "output_type": "display_data"
    }
   ],
   "source": [
    "# Escribe aquí tu código\n",
    "#\n",
    "print \"los datos a graficar son:\"\n",
    "df1 = fixed_df.ix[130:160,3:6]\n",
    "print df1\n",
    "df1 = fixed_df.ix[130:160,3:6].plot()\n"
   ]
  },
  {
   "cell_type": "markdown",
   "metadata": {},
   "source": [
    "## 1.4 Extraer una columna y transformar el índice (fecha)"
   ]
  },
  {
   "cell_type": "markdown",
   "metadata": {},
   "source": [
    "Supongamos ahora que tenemos la siguiente pregunta ¿Que día de la semana la gente circula más por el trayecto *Berri 1* (una ciclovía al lado de una calle principal de Montreal). Bueno, lo que tendríamos que hacer es extraer la columna que nos interesa como un nuevo *DataFrame* y luego agregarle una nueva variable como es el día de la semana.\n",
    "\n",
    "Primero copiemos físicamente la coluna que nos interesa"
   ]
  },
  {
   "cell_type": "code",
   "execution_count": 46,
   "metadata": {
    "collapsed": false
   },
   "outputs": [
    {
     "data": {
      "text/html": [
       "<div>\n",
       "<table border=\"1\" class=\"dataframe\">\n",
       "  <thead>\n",
       "    <tr style=\"text-align: right;\">\n",
       "      <th></th>\n",
       "      <th>Berri 1</th>\n",
       "    </tr>\n",
       "    <tr>\n",
       "      <th>Date</th>\n",
       "      <th></th>\n",
       "    </tr>\n",
       "  </thead>\n",
       "  <tbody>\n",
       "    <tr>\n",
       "      <th>2012-01-01</th>\n",
       "      <td>35</td>\n",
       "    </tr>\n",
       "    <tr>\n",
       "      <th>2012-01-02</th>\n",
       "      <td>83</td>\n",
       "    </tr>\n",
       "    <tr>\n",
       "      <th>2012-01-03</th>\n",
       "      <td>135</td>\n",
       "    </tr>\n",
       "    <tr>\n",
       "      <th>2012-01-04</th>\n",
       "      <td>144</td>\n",
       "    </tr>\n",
       "    <tr>\n",
       "      <th>2012-01-05</th>\n",
       "      <td>197</td>\n",
       "    </tr>\n",
       "  </tbody>\n",
       "</table>\n",
       "</div>"
      ],
      "text/plain": [
       "            Berri 1\n",
       "Date               \n",
       "2012-01-01       35\n",
       "2012-01-02       83\n",
       "2012-01-03      135\n",
       "2012-01-04      144\n",
       "2012-01-05      197"
      ]
     },
     "execution_count": 46,
     "metadata": {},
     "output_type": "execute_result"
    }
   ],
   "source": [
    "berri_bikes = fixed_df[['Berri 1']].copy()\n",
    "berri_bikes.head()"
   ]
  },
  {
   "cell_type": "markdown",
   "metadata": {},
   "source": [
    "Ahora tenemos que malipular las fechas, las cuales se encuentran en el índice del *DataFrame*"
   ]
  },
  {
   "cell_type": "code",
   "execution_count": 47,
   "metadata": {
    "collapsed": false
   },
   "outputs": [
    {
     "data": {
      "text/plain": [
       "DatetimeIndex(['2012-01-01', '2012-01-02', '2012-01-03', '2012-01-04',\n",
       "               '2012-01-05', '2012-01-06', '2012-01-07', '2012-01-08',\n",
       "               '2012-01-09', '2012-01-10', \n",
       "               ...\n",
       "               '2012-10-27', '2012-10-28', '2012-10-29', '2012-10-30',\n",
       "               '2012-10-31', '2012-11-01', '2012-11-02', '2012-11-03',\n",
       "               '2012-11-04', '2012-11-05'],\n",
       "              dtype='datetime64[ns]', name=u'Date', length=310, freq=None, tz=None)"
      ]
     },
     "execution_count": 47,
     "metadata": {},
     "output_type": "execute_result"
    }
   ],
   "source": [
    "berri_bikes.index"
   ]
  },
  {
   "cell_type": "markdown",
   "metadata": {},
   "source": [
    "Curioso que lo que se registró solo llego hasta el 5 de noviembre del 2012 ¿Verdad? Ahora podemos usar las facilidades que nos dá Pandas para manipular fechas. Por ejemplo, si queremos el día del mes:"
   ]
  },
  {
   "cell_type": "code",
   "execution_count": 48,
   "metadata": {
    "collapsed": false
   },
   "outputs": [
    {
     "data": {
      "text/plain": [
       "array([ 1,  2,  3,  4,  5,  6,  7,  8,  9, 10, 11, 12, 13, 14, 15, 16, 17,\n",
       "       18, 19, 20, 21, 22, 23, 24, 25, 26, 27, 28, 29, 30, 31,  1,  2,  3,\n",
       "        4,  5,  6,  7,  8,  9, 10, 11, 12, 13, 14, 15, 16, 17, 18, 19, 20,\n",
       "       21, 22, 23, 24, 25, 26, 27, 28, 29,  1,  2,  3,  4,  5,  6,  7,  8,\n",
       "        9, 10, 11, 12, 13, 14, 15, 16, 17, 18, 19, 20, 21, 22, 23, 24, 25,\n",
       "       26, 27, 28, 29, 30, 31,  1,  2,  3,  4,  5,  6,  7,  8,  9, 10, 11,\n",
       "       12, 13, 14, 15, 16, 17, 18, 19, 20, 21, 22, 23, 24, 25, 26, 27, 28,\n",
       "       29, 30,  1,  2,  3,  4,  5,  6,  7,  8,  9, 10, 11, 12, 13, 14, 15,\n",
       "       16, 17, 18, 19, 20, 21, 22, 23, 24, 25, 26, 27, 28, 29, 30, 31,  1,\n",
       "        2,  3,  4,  5,  6,  7,  8,  9, 10, 11, 12, 13, 14, 15, 16, 17, 18,\n",
       "       19, 20, 21, 22, 23, 24, 25, 26, 27, 28, 29, 30,  1,  2,  3,  4,  5,\n",
       "        6,  7,  8,  9, 10, 11, 12, 13, 14, 15, 16, 17, 18, 19, 20, 21, 22,\n",
       "       23, 24, 25, 26, 27, 28, 29, 30, 31,  1,  2,  3,  4,  5,  6,  7,  8,\n",
       "        9, 10, 11, 12, 13, 14, 15, 16, 17, 18, 19, 20, 21, 22, 23, 24, 25,\n",
       "       26, 27, 28, 29, 30, 31,  1,  2,  3,  4,  5,  6,  7,  8,  9, 10, 11,\n",
       "       12, 13, 14, 15, 16, 17, 18, 19, 20, 21, 22, 23, 24, 25, 26, 27, 28,\n",
       "       29, 30,  1,  2,  3,  4,  5,  6,  7,  8,  9, 10, 11, 12, 13, 14, 15,\n",
       "       16, 17, 18, 19, 20, 21, 22, 23, 24, 25, 26, 27, 28, 29, 30, 31,  1,\n",
       "        2,  3,  4,  5])"
      ]
     },
     "execution_count": 48,
     "metadata": {},
     "output_type": "execute_result"
    }
   ],
   "source": [
    "berri_bikes.index.day"
   ]
  },
  {
   "cell_type": "markdown",
   "metadata": {},
   "source": [
    "y si queremos el día de la semana:"
   ]
  },
  {
   "cell_type": "code",
   "execution_count": 49,
   "metadata": {
    "collapsed": false
   },
   "outputs": [
    {
     "data": {
      "text/plain": [
       "array([6, 0, 1, 2, 3, 4, 5, 6, 0, 1, 2, 3, 4, 5, 6, 0, 1, 2, 3, 4, 5, 6, 0,\n",
       "       1, 2, 3, 4, 5, 6, 0, 1, 2, 3, 4, 5, 6, 0, 1, 2, 3, 4, 5, 6, 0, 1, 2,\n",
       "       3, 4, 5, 6, 0, 1, 2, 3, 4, 5, 6, 0, 1, 2, 3, 4, 5, 6, 0, 1, 2, 3, 4,\n",
       "       5, 6, 0, 1, 2, 3, 4, 5, 6, 0, 1, 2, 3, 4, 5, 6, 0, 1, 2, 3, 4, 5, 6,\n",
       "       0, 1, 2, 3, 4, 5, 6, 0, 1, 2, 3, 4, 5, 6, 0, 1, 2, 3, 4, 5, 6, 0, 1,\n",
       "       2, 3, 4, 5, 6, 0, 1, 2, 3, 4, 5, 6, 0, 1, 2, 3, 4, 5, 6, 0, 1, 2, 3,\n",
       "       4, 5, 6, 0, 1, 2, 3, 4, 5, 6, 0, 1, 2, 3, 4, 5, 6, 0, 1, 2, 3, 4, 5,\n",
       "       6, 0, 1, 2, 3, 4, 5, 6, 0, 1, 2, 3, 4, 5, 6, 0, 1, 2, 3, 4, 5, 6, 0,\n",
       "       1, 2, 3, 4, 5, 6, 0, 1, 2, 3, 4, 5, 6, 0, 1, 2, 3, 4, 5, 6, 0, 1, 2,\n",
       "       3, 4, 5, 6, 0, 1, 2, 3, 4, 5, 6, 0, 1, 2, 3, 4, 5, 6, 0, 1, 2, 3, 4,\n",
       "       5, 6, 0, 1, 2, 3, 4, 5, 6, 0, 1, 2, 3, 4, 5, 6, 0, 1, 2, 3, 4, 5, 6,\n",
       "       0, 1, 2, 3, 4, 5, 6, 0, 1, 2, 3, 4, 5, 6, 0, 1, 2, 3, 4, 5, 6, 0, 1,\n",
       "       2, 3, 4, 5, 6, 0, 1, 2, 3, 4, 5, 6, 0, 1, 2, 3, 4, 5, 6, 0, 1, 2, 3,\n",
       "       4, 5, 6, 0, 1, 2, 3, 4, 5, 6, 0])"
      ]
     },
     "execution_count": 49,
     "metadata": {},
     "output_type": "execute_result"
    }
   ],
   "source": [
    "berri_bikes.index.weekday"
   ]
  },
  {
   "cell_type": "markdown",
   "metadata": {},
   "source": [
    "Ahora agregamos una nueva variable a nuestro *DataFrame* de manera bastante intuitiva"
   ]
  },
  {
   "cell_type": "code",
   "execution_count": 50,
   "metadata": {
    "collapsed": false
   },
   "outputs": [
    {
     "data": {
      "text/html": [
       "<div>\n",
       "<table border=\"1\" class=\"dataframe\">\n",
       "  <thead>\n",
       "    <tr style=\"text-align: right;\">\n",
       "      <th></th>\n",
       "      <th>Berri 1</th>\n",
       "      <th>Día de la semana</th>\n",
       "    </tr>\n",
       "    <tr>\n",
       "      <th>Date</th>\n",
       "      <th></th>\n",
       "      <th></th>\n",
       "    </tr>\n",
       "  </thead>\n",
       "  <tbody>\n",
       "    <tr>\n",
       "      <th>2012-01-01</th>\n",
       "      <td>35</td>\n",
       "      <td>6</td>\n",
       "    </tr>\n",
       "    <tr>\n",
       "      <th>2012-01-02</th>\n",
       "      <td>83</td>\n",
       "      <td>0</td>\n",
       "    </tr>\n",
       "    <tr>\n",
       "      <th>2012-01-03</th>\n",
       "      <td>135</td>\n",
       "      <td>1</td>\n",
       "    </tr>\n",
       "    <tr>\n",
       "      <th>2012-01-04</th>\n",
       "      <td>144</td>\n",
       "      <td>2</td>\n",
       "    </tr>\n",
       "    <tr>\n",
       "      <th>2012-01-05</th>\n",
       "      <td>197</td>\n",
       "      <td>3</td>\n",
       "    </tr>\n",
       "  </tbody>\n",
       "</table>\n",
       "</div>"
      ],
      "text/plain": [
       "            Berri 1  Día de la semana\n",
       "Date                                 \n",
       "2012-01-01       35                 6\n",
       "2012-01-02       83                 0\n",
       "2012-01-03      135                 1\n",
       "2012-01-04      144                 2\n",
       "2012-01-05      197                 3"
      ]
     },
     "execution_count": 50,
     "metadata": {},
     "output_type": "execute_result"
    }
   ],
   "source": [
    "berri_bikes.loc[:, u'Día de la semana'] = berri_bikes.index.weekday\n",
    "berri_bikes.head()"
   ]
  },
  {
   "cell_type": "markdown",
   "metadata": {},
   "source": [
    "## 1.5 Agregación de información"
   ]
  },
  {
   "cell_type": "markdown",
   "metadata": {},
   "source": [
    "Ahora nos falta agregar la información, y para eso vamos a utilizar el método `.groupby` de la clase *DataFrame*, el cual es muy parecido al que se usa en SQL. Veamos como se utiliza en forma básica, pero revisa la [documentación](http://pandas.pydata.org/pandas-docs/stable/groupby.html), ya que es una herramienta muy poderosa para el análisis y tratamiento de los datos."
   ]
  },
  {
   "cell_type": "code",
   "execution_count": 51,
   "metadata": {
    "collapsed": false
   },
   "outputs": [
    {
     "data": {
      "text/html": [
       "<div>\n",
       "<table border=\"1\" class=\"dataframe\">\n",
       "  <thead>\n",
       "    <tr style=\"text-align: right;\">\n",
       "      <th></th>\n",
       "      <th>Berri 1</th>\n",
       "    </tr>\n",
       "    <tr>\n",
       "      <th>Día de la semana</th>\n",
       "      <th></th>\n",
       "    </tr>\n",
       "  </thead>\n",
       "  <tbody>\n",
       "    <tr>\n",
       "      <th>0</th>\n",
       "      <td>134298</td>\n",
       "    </tr>\n",
       "    <tr>\n",
       "      <th>1</th>\n",
       "      <td>135305</td>\n",
       "    </tr>\n",
       "    <tr>\n",
       "      <th>2</th>\n",
       "      <td>152972</td>\n",
       "    </tr>\n",
       "    <tr>\n",
       "      <th>3</th>\n",
       "      <td>160131</td>\n",
       "    </tr>\n",
       "    <tr>\n",
       "      <th>4</th>\n",
       "      <td>141771</td>\n",
       "    </tr>\n",
       "    <tr>\n",
       "      <th>5</th>\n",
       "      <td>101578</td>\n",
       "    </tr>\n",
       "    <tr>\n",
       "      <th>6</th>\n",
       "      <td>99310</td>\n",
       "    </tr>\n",
       "  </tbody>\n",
       "</table>\n",
       "</div>"
      ],
      "text/plain": [
       "                  Berri 1\n",
       "Día de la semana         \n",
       "0                  134298\n",
       "1                  135305\n",
       "2                  152972\n",
       "3                  160131\n",
       "4                  141771\n",
       "5                  101578\n",
       "6                   99310"
      ]
     },
     "execution_count": 51,
     "metadata": {},
     "output_type": "execute_result"
    }
   ],
   "source": [
    "paseos_por_dia = berri_bikes.groupby(u'Día de la semana').aggregate(sum)\n",
    "paseos_por_dia"
   ]
  },
  {
   "cell_type": "markdown",
   "metadata": {},
   "source": [
    "¿Días de la semana de 0 a 6? Eso no tiene mucho sentido si queremos seguir usando esta información para análisis posteriores. Es una buena práctica procurar que todas las columnas tengan nombres significativos, y que los valores se codifiquen de una manera que sean claros."
   ]
  },
  {
   "cell_type": "code",
   "execution_count": 52,
   "metadata": {
    "collapsed": false
   },
   "outputs": [
    {
     "data": {
      "text/html": [
       "<div>\n",
       "<table border=\"1\" class=\"dataframe\">\n",
       "  <thead>\n",
       "    <tr style=\"text-align: right;\">\n",
       "      <th></th>\n",
       "      <th>Berri 1</th>\n",
       "    </tr>\n",
       "  </thead>\n",
       "  <tbody>\n",
       "    <tr>\n",
       "      <th>Lunes</th>\n",
       "      <td>134298</td>\n",
       "    </tr>\n",
       "    <tr>\n",
       "      <th>Martes</th>\n",
       "      <td>135305</td>\n",
       "    </tr>\n",
       "    <tr>\n",
       "      <th>Miércoles</th>\n",
       "      <td>152972</td>\n",
       "    </tr>\n",
       "    <tr>\n",
       "      <th>Jueves</th>\n",
       "      <td>160131</td>\n",
       "    </tr>\n",
       "    <tr>\n",
       "      <th>Viernes</th>\n",
       "      <td>141771</td>\n",
       "    </tr>\n",
       "    <tr>\n",
       "      <th>Sábado</th>\n",
       "      <td>101578</td>\n",
       "    </tr>\n",
       "    <tr>\n",
       "      <th>Domingo</th>\n",
       "      <td>99310</td>\n",
       "    </tr>\n",
       "  </tbody>\n",
       "</table>\n",
       "</div>"
      ],
      "text/plain": [
       "           Berri 1\n",
       "Lunes       134298\n",
       "Martes      135305\n",
       "Miércoles   152972\n",
       "Jueves      160131\n",
       "Viernes     141771\n",
       "Sábado      101578\n",
       "Domingo      99310"
      ]
     },
     "execution_count": 52,
     "metadata": {},
     "output_type": "execute_result"
    }
   ],
   "source": [
    "paseos_por_dia.index = ['Lunes', 'Martes', u'Miércoles', 'Jueves', 'Viernes', u'Sábado', 'Domingo']\n",
    "paseos_por_dia"
   ]
  },
  {
   "cell_type": "markdown",
   "metadata": {},
   "source": [
    "¡Mejor! Y mucho mejor si lo visualizamos como una gráfica:"
   ]
  },
  {
   "cell_type": "code",
   "execution_count": 53,
   "metadata": {
    "collapsed": false
   },
   "outputs": [
    {
     "data": {
      "text/plain": [
       "<matplotlib.axes._subplots.AxesSubplot at 0xd9d0be0>"
      ]
     },
     "execution_count": 53,
     "metadata": {},
     "output_type": "execute_result"
    },
    {
     "data": {
      "image/png": "[encoded data removed]",
      "text/plain": [
       "<matplotlib.figure.Figure at 0xd70f0f0>"
      ]
     },
     "metadata": {},
     "output_type": "display_data"
    }
   ],
   "source": [
    "paseos_por_dia.plot(kind='bar')"
   ]
  },
  {
   "cell_type": "markdown",
   "metadata": {},
   "source": [
    "Alguien podría argumentar que las cuentas totales no es la mejor manera que representar lo que pasa en cada día, porque la variabilidad podría ser factor importante. Como la observación nos parece válida, hagámos el análisis de otra manera."
   ]
  },
  {
   "cell_type": "code",
   "execution_count": 54,
   "metadata": {
    "collapsed": false
   },
   "outputs": [
    {
     "data": {
      "text/plain": [
       "<matplotlib.axes._subplots.AxesSubplot at 0xda9e7f0>"
      ]
     },
     "execution_count": 54,
     "metadata": {},
     "output_type": "execute_result"
    },
    {
     "data": {
      "image/png": "[encoded data removed]",
      "text/plain": [
       "<matplotlib.figure.Figure at 0xdb54a20>"
      ]
     },
     "metadata": {},
     "output_type": "display_data"
    }
   ],
   "source": [
    "berri_bikes.replace({u'Día de la semana': {0:'Lunes', 1:'Martes', 2:u'Miércoles', 3:'Jueves', \n",
    "                                           4:'Viernes', 5:u'Sábado', 6:'Domingo'}}, inplace=True)\n",
    "\n",
    "berri_bikes.boxplot(column=u'Berri 1', by=u'Día de la semana', \n",
    "                    positions= [7, 4, 1, 2, 3, 6, 5])         # Las posiciones es para mantener el orden alfabético\n",
    "\n"
   ]
  },
  {
   "cell_type": "markdown",
   "metadata": {},
   "source": [
    "Estas gráficas se conocen como *Box Plots* y son muy útiles para visualizar la distribución de datos. La línea roja representa la mediana (o quantil 50) la cajita es el rango en que se encuentran el 90% de los valores, y las líneas representan los valores mínimos y máximos."
   ]
  },
  {
   "cell_type": "markdown",
   "metadata": {},
   "source": [
    "### Ejercicio2 (20 puntos): Responde a la pregunta ¿Que tanto sale la gente a andar en bicicleta por Montreal por més del año en el 2012?"
   ]
  },
  {
   "cell_type": "code",
   "execution_count": 72,
   "metadata": {
    "collapsed": false
   },
   "outputs": [
    {
     "name": "stdout",
     "output_type": "stream",
     "text": [
      "            Berri 1\n",
      "Date               \n",
      "2012-01-01       35\n",
      "2012-01-02       83\n",
      "2012-01-03      135\n",
      "2012-01-04      144\n",
      "2012-01-05      197\n",
      "DatetimeIndex(['2012-01-01', '2012-01-02', '2012-01-03', '2012-01-04',\n",
      "               '2012-01-05', '2012-01-06', '2012-01-07', '2012-01-08',\n",
      "               '2012-01-09', '2012-01-10', \n",
      "               ...\n",
      "               '2012-10-27', '2012-10-28', '2012-10-29', '2012-10-30',\n",
      "               '2012-10-31', '2012-11-01', '2012-11-02', '2012-11-03',\n",
      "               '2012-11-04', '2012-11-05'],\n",
      "              dtype='datetime64[ns]', name=u'Date', length=310, freq=None, tz=None)\n",
      "[ 1  1  1  1  1  1  1  1  1  1  1  1  1  1  1  1  1  1  1  1  1  1  1  1  1\n",
      "  1  1  1  1  1  1  2  2  2  2  2  2  2  2  2  2  2  2  2  2  2  2  2  2  2\n",
      "  2  2  2  2  2  2  2  2  2  2  3  3  3  3  3  3  3  3  3  3  3  3  3  3  3\n",
      "  3  3  3  3  3  3  3  3  3  3  3  3  3  3  3  3  4  4  4  4  4  4  4  4  4\n",
      "  4  4  4  4  4  4  4  4  4  4  4  4  4  4  4  4  4  4  4  4  4  5  5  5  5\n",
      "  5  5  5  5  5  5  5  5  5  5  5  5  5  5  5  5  5  5  5  5  5  5  5  5  5\n",
      "  5  5  6  6  6  6  6  6  6  6  6  6  6  6  6  6  6  6  6  6  6  6  6  6  6\n",
      "  6  6  6  6  6  6  6  7  7  7  7  7  7  7  7  7  7  7  7  7  7  7  7  7  7\n",
      "  7  7  7  7  7  7  7  7  7  7  7  7  7  8  8  8  8  8  8  8  8  8  8  8  8\n",
      "  8  8  8  8  8  8  8  8  8  8  8  8  8  8  8  8  8  8  8  9  9  9  9  9  9\n",
      "  9  9  9  9  9  9  9  9  9  9  9  9  9  9  9  9  9  9  9  9  9  9  9  9 10\n",
      " 10 10 10 10 10 10 10 10 10 10 10 10 10 10 10 10 10 10 10 10 10 10 10 10 10\n",
      " 10 10 10 10 10 11 11 11 11 11]\n",
      "            Berri 1  Mes \n",
      "Date                     \n",
      "2012-01-01       35     1\n",
      "2012-01-02       83     1\n",
      "2012-01-03      135     1\n",
      "2012-01-04      144     1\n",
      "2012-01-05      197     1\n",
      "      Berri 1\n",
      "Mes          \n",
      "1        4915\n",
      "2        6712\n",
      "3       26229\n",
      "4       67699\n",
      "5      133274\n",
      "6      144849\n",
      "7      162562\n",
      "8      149227\n",
      "9      127061\n",
      "10      94793\n",
      "11       8044\n",
      "            Berri 1\n",
      "Enero          4915\n",
      "Febrero        6712\n",
      "Marzo         26229\n",
      "Abril         67699\n",
      "Mayo         133274\n",
      "Junio        144849\n",
      "Agosto       162562\n",
      "Septiembre   149227\n",
      "Octubre      127061\n",
      "Noviembre     94793\n",
      "Diciembre      8044\n"
     ]
    },
    {
     "data": {
      "text/plain": [
       "<matplotlib.axes._subplots.AxesSubplot at 0xe779898>"
      ]
     },
     "execution_count": 72,
     "metadata": {},
     "output_type": "execute_result"
    },
    {
     "data": {
      "image/png": "[encoded data removed]",
      "text/plain": [
       "<matplotlib.figure.Figure at 0xe63f7b8>"
      ]
     },
     "metadata": {},
     "output_type": "display_data"
    }
   ],
   "source": [
    "# Agrega todo tu código aqui, no es necesario hacerlo por partes\n",
    "\n",
    "montreal_bikes = fixed_df[['Berri 1']].copy()\n",
    "print montreal_bikes.head()\n",
    "\n",
    "print montreal_bikes.index\n",
    "print montreal_bikes.index.month\n",
    "\n",
    "montreal_bikes.loc[:, u'Mes '] = montreal_bikes.index.month\n",
    "print montreal_bikes.head()\n",
    "\n",
    "paseos_por_mes = montreal_bikes.groupby(u'Mes ').aggregate(sum)\n",
    "print paseos_por_mes\n",
    "\n",
    "\n",
    "paseos_por_mes.index = ['Enero', 'Febrero', 'Marzo', 'Abril', 'Mayo', u'Junio', 'Agosto', 'Septiembre', 'Octubre','Noviembre','Diciembre']\n",
    "print paseos_por_mes\n",
    "paseos_por_mes.plot(kind='bar')"
   ]
  },
  {
   "cell_type": "markdown",
   "metadata": {},
   "source": [
    "# 2. Ahora un ejercicio con el clima en Montreal"
   ]
  },
  {
   "cell_type": "markdown",
   "metadata": {},
   "source": [
    "## 2.1 Obteniendo datos de la red"
   ]
  },
  {
   "cell_type": "markdown",
   "metadata": {},
   "source": [
    "Ahora vamos a revisar el clima en el mismo año del 2012 en Montreal. Así que vamos a accesar al sitio que guarda la\n",
    "[información histórica del clima en Canada](http://climate.weather.gc.ca/index_e.html#access), y vamos a obtener la información del mes de marzo del 2012 (revisa el sitio si quieres ver como se determinó el *request*."
   ]
  },
  {
   "cell_type": "code",
   "execution_count": 73,
   "metadata": {
    "collapsed": false
   },
   "outputs": [
    {
     "data": {
      "text/html": [
       "<div>\n",
       "<table border=\"1\" class=\"dataframe\">\n",
       "  <thead>\n",
       "    <tr style=\"text-align: right;\">\n",
       "      <th></th>\n",
       "      <th>Year</th>\n",
       "      <th>Month</th>\n",
       "      <th>Day</th>\n",
       "      <th>Time</th>\n",
       "      <th>Data Quality</th>\n",
       "      <th>Temp (Â°C)</th>\n",
       "      <th>Temp Flag</th>\n",
       "      <th>Dew Point Temp (Â°C)</th>\n",
       "      <th>Dew Point Temp Flag</th>\n",
       "      <th>Rel Hum (%)</th>\n",
       "      <th>...</th>\n",
       "      <th>Wind Spd Flag</th>\n",
       "      <th>Visibility (km)</th>\n",
       "      <th>Visibility Flag</th>\n",
       "      <th>Stn Press (kPa)</th>\n",
       "      <th>Stn Press Flag</th>\n",
       "      <th>Hmdx</th>\n",
       "      <th>Hmdx Flag</th>\n",
       "      <th>Wind Chill</th>\n",
       "      <th>Wind Chill Flag</th>\n",
       "      <th>Weather</th>\n",
       "    </tr>\n",
       "    <tr>\n",
       "      <th>Date/Time</th>\n",
       "      <th></th>\n",
       "      <th></th>\n",
       "      <th></th>\n",
       "      <th></th>\n",
       "      <th></th>\n",
       "      <th></th>\n",
       "      <th></th>\n",
       "      <th></th>\n",
       "      <th></th>\n",
       "      <th></th>\n",
       "      <th></th>\n",
       "      <th></th>\n",
       "      <th></th>\n",
       "      <th></th>\n",
       "      <th></th>\n",
       "      <th></th>\n",
       "      <th></th>\n",
       "      <th></th>\n",
       "      <th></th>\n",
       "      <th></th>\n",
       "      <th></th>\n",
       "    </tr>\n",
       "  </thead>\n",
       "  <tbody>\n",
       "    <tr>\n",
       "      <th>2012-03-01 00:00:00</th>\n",
       "      <td>2012</td>\n",
       "      <td>3</td>\n",
       "      <td>1</td>\n",
       "      <td>00:00</td>\n",
       "      <td></td>\n",
       "      <td>-5.5</td>\n",
       "      <td>NaN</td>\n",
       "      <td>-9.7</td>\n",
       "      <td>NaN</td>\n",
       "      <td>72</td>\n",
       "      <td>...</td>\n",
       "      <td>NaN</td>\n",
       "      <td>4.0</td>\n",
       "      <td>NaN</td>\n",
       "      <td>100.97</td>\n",
       "      <td>NaN</td>\n",
       "      <td>NaN</td>\n",
       "      <td>NaN</td>\n",
       "      <td>-13</td>\n",
       "      <td>NaN</td>\n",
       "      <td>Snow</td>\n",
       "    </tr>\n",
       "    <tr>\n",
       "      <th>2012-03-01 01:00:00</th>\n",
       "      <td>2012</td>\n",
       "      <td>3</td>\n",
       "      <td>1</td>\n",
       "      <td>01:00</td>\n",
       "      <td></td>\n",
       "      <td>-5.7</td>\n",
       "      <td>NaN</td>\n",
       "      <td>-8.7</td>\n",
       "      <td>NaN</td>\n",
       "      <td>79</td>\n",
       "      <td>...</td>\n",
       "      <td>NaN</td>\n",
       "      <td>2.4</td>\n",
       "      <td>NaN</td>\n",
       "      <td>100.87</td>\n",
       "      <td>NaN</td>\n",
       "      <td>NaN</td>\n",
       "      <td>NaN</td>\n",
       "      <td>-13</td>\n",
       "      <td>NaN</td>\n",
       "      <td>Snow</td>\n",
       "    </tr>\n",
       "    <tr>\n",
       "      <th>2012-03-01 02:00:00</th>\n",
       "      <td>2012</td>\n",
       "      <td>3</td>\n",
       "      <td>1</td>\n",
       "      <td>02:00</td>\n",
       "      <td></td>\n",
       "      <td>-5.4</td>\n",
       "      <td>NaN</td>\n",
       "      <td>-8.3</td>\n",
       "      <td>NaN</td>\n",
       "      <td>80</td>\n",
       "      <td>...</td>\n",
       "      <td>NaN</td>\n",
       "      <td>4.8</td>\n",
       "      <td>NaN</td>\n",
       "      <td>100.80</td>\n",
       "      <td>NaN</td>\n",
       "      <td>NaN</td>\n",
       "      <td>NaN</td>\n",
       "      <td>-13</td>\n",
       "      <td>NaN</td>\n",
       "      <td>Snow</td>\n",
       "    </tr>\n",
       "    <tr>\n",
       "      <th>2012-03-01 03:00:00</th>\n",
       "      <td>2012</td>\n",
       "      <td>3</td>\n",
       "      <td>1</td>\n",
       "      <td>03:00</td>\n",
       "      <td></td>\n",
       "      <td>-4.7</td>\n",
       "      <td>NaN</td>\n",
       "      <td>-7.7</td>\n",
       "      <td>NaN</td>\n",
       "      <td>79</td>\n",
       "      <td>...</td>\n",
       "      <td>NaN</td>\n",
       "      <td>4.0</td>\n",
       "      <td>NaN</td>\n",
       "      <td>100.69</td>\n",
       "      <td>NaN</td>\n",
       "      <td>NaN</td>\n",
       "      <td>NaN</td>\n",
       "      <td>-12</td>\n",
       "      <td>NaN</td>\n",
       "      <td>Snow</td>\n",
       "    </tr>\n",
       "    <tr>\n",
       "      <th>2012-03-01 04:00:00</th>\n",
       "      <td>2012</td>\n",
       "      <td>3</td>\n",
       "      <td>1</td>\n",
       "      <td>04:00</td>\n",
       "      <td></td>\n",
       "      <td>-5.4</td>\n",
       "      <td>NaN</td>\n",
       "      <td>-7.8</td>\n",
       "      <td>NaN</td>\n",
       "      <td>83</td>\n",
       "      <td>...</td>\n",
       "      <td>NaN</td>\n",
       "      <td>1.6</td>\n",
       "      <td>NaN</td>\n",
       "      <td>100.62</td>\n",
       "      <td>NaN</td>\n",
       "      <td>NaN</td>\n",
       "      <td>NaN</td>\n",
       "      <td>-14</td>\n",
       "      <td>NaN</td>\n",
       "      <td>Snow</td>\n",
       "    </tr>\n",
       "    <tr>\n",
       "      <th>2012-03-01 05:00:00</th>\n",
       "      <td>2012</td>\n",
       "      <td>3</td>\n",
       "      <td>1</td>\n",
       "      <td>05:00</td>\n",
       "      <td></td>\n",
       "      <td>-5.3</td>\n",
       "      <td>NaN</td>\n",
       "      <td>-7.9</td>\n",
       "      <td>NaN</td>\n",
       "      <td>82</td>\n",
       "      <td>...</td>\n",
       "      <td>NaN</td>\n",
       "      <td>2.4</td>\n",
       "      <td>NaN</td>\n",
       "      <td>100.58</td>\n",
       "      <td>NaN</td>\n",
       "      <td>NaN</td>\n",
       "      <td>NaN</td>\n",
       "      <td>-14</td>\n",
       "      <td>NaN</td>\n",
       "      <td>Snow</td>\n",
       "    </tr>\n",
       "    <tr>\n",
       "      <th>2012-03-01 06:00:00</th>\n",
       "      <td>2012</td>\n",
       "      <td>3</td>\n",
       "      <td>1</td>\n",
       "      <td>06:00</td>\n",
       "      <td></td>\n",
       "      <td>-5.2</td>\n",
       "      <td>NaN</td>\n",
       "      <td>-7.8</td>\n",
       "      <td>NaN</td>\n",
       "      <td>82</td>\n",
       "      <td>...</td>\n",
       "      <td>NaN</td>\n",
       "      <td>4.0</td>\n",
       "      <td>NaN</td>\n",
       "      <td>100.57</td>\n",
       "      <td>NaN</td>\n",
       "      <td>NaN</td>\n",
       "      <td>NaN</td>\n",
       "      <td>-14</td>\n",
       "      <td>NaN</td>\n",
       "      <td>Snow</td>\n",
       "    </tr>\n",
       "    <tr>\n",
       "      <th>2012-03-01 07:00:00</th>\n",
       "      <td>2012</td>\n",
       "      <td>3</td>\n",
       "      <td>1</td>\n",
       "      <td>07:00</td>\n",
       "      <td></td>\n",
       "      <td>-4.9</td>\n",
       "      <td>NaN</td>\n",
       "      <td>-7.4</td>\n",
       "      <td>NaN</td>\n",
       "      <td>83</td>\n",
       "      <td>...</td>\n",
       "      <td>NaN</td>\n",
       "      <td>1.6</td>\n",
       "      <td>NaN</td>\n",
       "      <td>100.59</td>\n",
       "      <td>NaN</td>\n",
       "      <td>NaN</td>\n",
       "      <td>NaN</td>\n",
       "      <td>-13</td>\n",
       "      <td>NaN</td>\n",
       "      <td>Snow</td>\n",
       "    </tr>\n",
       "    <tr>\n",
       "      <th>2012-03-01 08:00:00</th>\n",
       "      <td>2012</td>\n",
       "      <td>3</td>\n",
       "      <td>1</td>\n",
       "      <td>08:00</td>\n",
       "      <td></td>\n",
       "      <td>-5.0</td>\n",
       "      <td>NaN</td>\n",
       "      <td>-7.5</td>\n",
       "      <td>NaN</td>\n",
       "      <td>83</td>\n",
       "      <td>...</td>\n",
       "      <td>NaN</td>\n",
       "      <td>1.2</td>\n",
       "      <td>NaN</td>\n",
       "      <td>100.59</td>\n",
       "      <td>NaN</td>\n",
       "      <td>NaN</td>\n",
       "      <td>NaN</td>\n",
       "      <td>-13</td>\n",
       "      <td>NaN</td>\n",
       "      <td>Snow</td>\n",
       "    </tr>\n",
       "    <tr>\n",
       "      <th>2012-03-01 09:00:00</th>\n",
       "      <td>2012</td>\n",
       "      <td>3</td>\n",
       "      <td>1</td>\n",
       "      <td>09:00</td>\n",
       "      <td></td>\n",
       "      <td>-4.9</td>\n",
       "      <td>NaN</td>\n",
       "      <td>-7.5</td>\n",
       "      <td>NaN</td>\n",
       "      <td>82</td>\n",
       "      <td>...</td>\n",
       "      <td>NaN</td>\n",
       "      <td>1.6</td>\n",
       "      <td>NaN</td>\n",
       "      <td>100.60</td>\n",
       "      <td>NaN</td>\n",
       "      <td>NaN</td>\n",
       "      <td>NaN</td>\n",
       "      <td>-13</td>\n",
       "      <td>NaN</td>\n",
       "      <td>Snow</td>\n",
       "    </tr>\n",
       "  </tbody>\n",
       "</table>\n",
       "<p>10 rows × 24 columns</p>\n",
       "</div>"
      ],
      "text/plain": [
       "                     Year  Month  Day   Time Data Quality  Temp (Â°C)  \\\n",
       "Date/Time                                                               \n",
       "2012-03-01 00:00:00  2012      3    1  00:00                     -5.5   \n",
       "2012-03-01 01:00:00  2012      3    1  01:00                     -5.7   \n",
       "2012-03-01 02:00:00  2012      3    1  02:00                     -5.4   \n",
       "2012-03-01 03:00:00  2012      3    1  03:00                     -4.7   \n",
       "2012-03-01 04:00:00  2012      3    1  04:00                     -5.4   \n",
       "2012-03-01 05:00:00  2012      3    1  05:00                     -5.3   \n",
       "2012-03-01 06:00:00  2012      3    1  06:00                     -5.2   \n",
       "2012-03-01 07:00:00  2012      3    1  07:00                     -4.9   \n",
       "2012-03-01 08:00:00  2012      3    1  08:00                     -5.0   \n",
       "2012-03-01 09:00:00  2012      3    1  09:00                     -4.9   \n",
       "\n",
       "                     Temp Flag  Dew Point Temp (Â°C)  Dew Point Temp Flag  \\\n",
       "Date/Time                                                                   \n",
       "2012-03-01 00:00:00        NaN                  -9.7                  NaN   \n",
       "2012-03-01 01:00:00        NaN                  -8.7                  NaN   \n",
       "2012-03-01 02:00:00        NaN                  -8.3                  NaN   \n",
       "2012-03-01 03:00:00        NaN                  -7.7                  NaN   \n",
       "2012-03-01 04:00:00        NaN                  -7.8                  NaN   \n",
       "2012-03-01 05:00:00        NaN                  -7.9                  NaN   \n",
       "2012-03-01 06:00:00        NaN                  -7.8                  NaN   \n",
       "2012-03-01 07:00:00        NaN                  -7.4                  NaN   \n",
       "2012-03-01 08:00:00        NaN                  -7.5                  NaN   \n",
       "2012-03-01 09:00:00        NaN                  -7.5                  NaN   \n",
       "\n",
       "                     Rel Hum (%)   ...     Wind Spd Flag  Visibility (km)  \\\n",
       "Date/Time                          ...                                      \n",
       "2012-03-01 00:00:00           72   ...               NaN              4.0   \n",
       "2012-03-01 01:00:00           79   ...               NaN              2.4   \n",
       "2012-03-01 02:00:00           80   ...               NaN              4.8   \n",
       "2012-03-01 03:00:00           79   ...               NaN              4.0   \n",
       "2012-03-01 04:00:00           83   ...               NaN              1.6   \n",
       "2012-03-01 05:00:00           82   ...               NaN              2.4   \n",
       "2012-03-01 06:00:00           82   ...               NaN              4.0   \n",
       "2012-03-01 07:00:00           83   ...               NaN              1.6   \n",
       "2012-03-01 08:00:00           83   ...               NaN              1.2   \n",
       "2012-03-01 09:00:00           82   ...               NaN              1.6   \n",
       "\n",
       "                     Visibility Flag  Stn Press (kPa) Stn Press Flag  Hmdx  \\\n",
       "Date/Time                                                                    \n",
       "2012-03-01 00:00:00              NaN           100.97            NaN   NaN   \n",
       "2012-03-01 01:00:00              NaN           100.87            NaN   NaN   \n",
       "2012-03-01 02:00:00              NaN           100.80            NaN   NaN   \n",
       "2012-03-01 03:00:00              NaN           100.69            NaN   NaN   \n",
       "2012-03-01 04:00:00              NaN           100.62            NaN   NaN   \n",
       "2012-03-01 05:00:00              NaN           100.58            NaN   NaN   \n",
       "2012-03-01 06:00:00              NaN           100.57            NaN   NaN   \n",
       "2012-03-01 07:00:00              NaN           100.59            NaN   NaN   \n",
       "2012-03-01 08:00:00              NaN           100.59            NaN   NaN   \n",
       "2012-03-01 09:00:00              NaN           100.60            NaN   NaN   \n",
       "\n",
       "                     Hmdx Flag  Wind Chill  Wind Chill Flag  Weather  \n",
       "Date/Time                                                             \n",
       "2012-03-01 00:00:00        NaN         -13              NaN     Snow  \n",
       "2012-03-01 01:00:00        NaN         -13              NaN     Snow  \n",
       "2012-03-01 02:00:00        NaN         -13              NaN     Snow  \n",
       "2012-03-01 03:00:00        NaN         -12              NaN     Snow  \n",
       "2012-03-01 04:00:00        NaN         -14              NaN     Snow  \n",
       "2012-03-01 05:00:00        NaN         -14              NaN     Snow  \n",
       "2012-03-01 06:00:00        NaN         -14              NaN     Snow  \n",
       "2012-03-01 07:00:00        NaN         -13              NaN     Snow  \n",
       "2012-03-01 08:00:00        NaN         -13              NaN     Snow  \n",
       "2012-03-01 09:00:00        NaN         -13              NaN     Snow  \n",
       "\n",
       "[10 rows x 24 columns]"
      ]
     },
     "execution_count": 73,
     "metadata": {},
     "output_type": "execute_result"
    }
   ],
   "source": [
    "# Para obtener strings con formato, donde va un valor a ser sustituido se pone entre llaves\n",
    "# como en url_template para {year} y para {month}\n",
    "\n",
    "url_template = \"http://climate.weather.gc.ca/climateData/bulkdata_e.html?format=csv&stationID=5415&Year={year}&Month={month}&timeframe=1&submit=Download+Data\"\n",
    "url = url_template.format(month=3, year=2012)\n",
    "\n",
    "clima_mar2012 = pd.read_csv(url, skiprows=15, index_col='Date/Time', \n",
    "                              parse_dates=True, encoding='latin1')\n",
    "\n",
    "clima_mar2012.head(10)"
   ]
  },
  {
   "cell_type": "markdown",
   "metadata": {},
   "source": [
    "Muy interesante que para descargar datos de internet se utilice exactamente la misma función que para abrir un archivo local. Otra cosa importante es que sabíamos bastantes cosas del conjunto de datos, como que los primeros 15 renglones del archivo serín metadatos que no nos interesan, que esta codificado en `latin1`, y que l primer columna es de tipo `DateTime` con un formato estandar.\n",
    "\n",
    "Ahora queda modificar el nombre de las variables para que tengan sentido para nosotros: "
   ]
  },
  {
   "cell_type": "code",
   "execution_count": 74,
   "metadata": {
    "collapsed": false
   },
   "outputs": [
    {
     "data": {
      "text/html": [
       "<div>\n",
       "<table border=\"1\" class=\"dataframe\">\n",
       "  <thead>\n",
       "    <tr style=\"text-align: right;\">\n",
       "      <th></th>\n",
       "      <th>Año</th>\n",
       "      <th>Mes</th>\n",
       "      <th>Dia</th>\n",
       "      <th>Temp (C)</th>\n",
       "      <th>Temp Flag</th>\n",
       "      <th>Temp. de punto de rocío (C)</th>\n",
       "      <th>Temp. de punto de rocío Flag</th>\n",
       "      <th>Humedad relativa (%)</th>\n",
       "      <th>Humedad relativa Flag</th>\n",
       "      <th>Dirección viento (10s deg)</th>\n",
       "      <th>Dirección viento Flag</th>\n",
       "      <th>Velocidad viento (km/h)</th>\n",
       "      <th>Visibilidad (km)</th>\n",
       "      <th>Visibilidad Flag</th>\n",
       "      <th>Presión ambiental (kPa)</th>\n",
       "      <th>Presión ambiental Flag</th>\n",
       "      <th>Hmdx</th>\n",
       "      <th>Hmdx Flag</th>\n",
       "      <th>Factor de viento</th>\n",
       "    </tr>\n",
       "  </thead>\n",
       "  <tbody>\n",
       "    <tr>\n",
       "      <th>count</th>\n",
       "      <td>744</td>\n",
       "      <td>744</td>\n",
       "      <td>744.000000</td>\n",
       "      <td>744.000000</td>\n",
       "      <td>0</td>\n",
       "      <td>744.000000</td>\n",
       "      <td>0</td>\n",
       "      <td>744.000000</td>\n",
       "      <td>0</td>\n",
       "      <td>715.000000</td>\n",
       "      <td>0</td>\n",
       "      <td>744.000000</td>\n",
       "      <td>744.000000</td>\n",
       "      <td>0</td>\n",
       "      <td>744.000000</td>\n",
       "      <td>0</td>\n",
       "      <td>12.000000</td>\n",
       "      <td>0</td>\n",
       "      <td>242.000000</td>\n",
       "    </tr>\n",
       "    <tr>\n",
       "      <th>mean</th>\n",
       "      <td>2012</td>\n",
       "      <td>3</td>\n",
       "      <td>16.000000</td>\n",
       "      <td>3.121237</td>\n",
       "      <td>NaN</td>\n",
       "      <td>-3.488575</td>\n",
       "      <td>NaN</td>\n",
       "      <td>64.862903</td>\n",
       "      <td>NaN</td>\n",
       "      <td>17.787413</td>\n",
       "      <td>NaN</td>\n",
       "      <td>14.514785</td>\n",
       "      <td>26.177957</td>\n",
       "      <td>NaN</td>\n",
       "      <td>101.335255</td>\n",
       "      <td>NaN</td>\n",
       "      <td>26.000000</td>\n",
       "      <td>NaN</td>\n",
       "      <td>-10.690083</td>\n",
       "    </tr>\n",
       "    <tr>\n",
       "      <th>std</th>\n",
       "      <td>0</td>\n",
       "      <td>0</td>\n",
       "      <td>8.950289</td>\n",
       "      <td>7.808771</td>\n",
       "      <td>NaN</td>\n",
       "      <td>8.293714</td>\n",
       "      <td>NaN</td>\n",
       "      <td>19.478739</td>\n",
       "      <td>NaN</td>\n",
       "      <td>11.265555</td>\n",
       "      <td>NaN</td>\n",
       "      <td>9.282456</td>\n",
       "      <td>14.213380</td>\n",
       "      <td>NaN</td>\n",
       "      <td>0.844718</td>\n",
       "      <td>NaN</td>\n",
       "      <td>1.044466</td>\n",
       "      <td>NaN</td>\n",
       "      <td>5.300809</td>\n",
       "    </tr>\n",
       "    <tr>\n",
       "      <th>min</th>\n",
       "      <td>2012</td>\n",
       "      <td>3</td>\n",
       "      <td>1.000000</td>\n",
       "      <td>-16.200000</td>\n",
       "      <td>NaN</td>\n",
       "      <td>-22.600000</td>\n",
       "      <td>NaN</td>\n",
       "      <td>18.000000</td>\n",
       "      <td>NaN</td>\n",
       "      <td>1.000000</td>\n",
       "      <td>NaN</td>\n",
       "      <td>0.000000</td>\n",
       "      <td>0.200000</td>\n",
       "      <td>NaN</td>\n",
       "      <td>98.670000</td>\n",
       "      <td>NaN</td>\n",
       "      <td>25.000000</td>\n",
       "      <td>NaN</td>\n",
       "      <td>-27.000000</td>\n",
       "    </tr>\n",
       "    <tr>\n",
       "      <th>25%</th>\n",
       "      <td>2012</td>\n",
       "      <td>3</td>\n",
       "      <td>8.000000</td>\n",
       "      <td>-2.025000</td>\n",
       "      <td>NaN</td>\n",
       "      <td>-9.000000</td>\n",
       "      <td>NaN</td>\n",
       "      <td>51.000000</td>\n",
       "      <td>NaN</td>\n",
       "      <td>5.000000</td>\n",
       "      <td>NaN</td>\n",
       "      <td>7.000000</td>\n",
       "      <td>24.100000</td>\n",
       "      <td>NaN</td>\n",
       "      <td>100.867500</td>\n",
       "      <td>NaN</td>\n",
       "      <td>25.000000</td>\n",
       "      <td>NaN</td>\n",
       "      <td>-13.000000</td>\n",
       "    </tr>\n",
       "    <tr>\n",
       "      <th>50%</th>\n",
       "      <td>2012</td>\n",
       "      <td>3</td>\n",
       "      <td>16.000000</td>\n",
       "      <td>2.600000</td>\n",
       "      <td>NaN</td>\n",
       "      <td>-2.500000</td>\n",
       "      <td>NaN</td>\n",
       "      <td>63.500000</td>\n",
       "      <td>NaN</td>\n",
       "      <td>21.000000</td>\n",
       "      <td>NaN</td>\n",
       "      <td>13.000000</td>\n",
       "      <td>25.000000</td>\n",
       "      <td>NaN</td>\n",
       "      <td>101.480000</td>\n",
       "      <td>NaN</td>\n",
       "      <td>26.000000</td>\n",
       "      <td>NaN</td>\n",
       "      <td>-10.000000</td>\n",
       "    </tr>\n",
       "    <tr>\n",
       "      <th>75%</th>\n",
       "      <td>2012</td>\n",
       "      <td>3</td>\n",
       "      <td>24.000000</td>\n",
       "      <td>7.600000</td>\n",
       "      <td>NaN</td>\n",
       "      <td>1.650000</td>\n",
       "      <td>NaN</td>\n",
       "      <td>82.000000</td>\n",
       "      <td>NaN</td>\n",
       "      <td>27.000000</td>\n",
       "      <td>NaN</td>\n",
       "      <td>19.000000</td>\n",
       "      <td>25.000000</td>\n",
       "      <td>NaN</td>\n",
       "      <td>101.882500</td>\n",
       "      <td>NaN</td>\n",
       "      <td>27.000000</td>\n",
       "      <td>NaN</td>\n",
       "      <td>-7.000000</td>\n",
       "    </tr>\n",
       "    <tr>\n",
       "      <th>max</th>\n",
       "      <td>2012</td>\n",
       "      <td>3</td>\n",
       "      <td>31.000000</td>\n",
       "      <td>25.500000</td>\n",
       "      <td>NaN</td>\n",
       "      <td>12.800000</td>\n",
       "      <td>NaN</td>\n",
       "      <td>100.000000</td>\n",
       "      <td>NaN</td>\n",
       "      <td>36.000000</td>\n",
       "      <td>NaN</td>\n",
       "      <td>63.000000</td>\n",
       "      <td>48.300000</td>\n",
       "      <td>NaN</td>\n",
       "      <td>103.120000</td>\n",
       "      <td>NaN</td>\n",
       "      <td>28.000000</td>\n",
       "      <td>NaN</td>\n",
       "      <td>-1.000000</td>\n",
       "    </tr>\n",
       "  </tbody>\n",
       "</table>\n",
       "</div>"
      ],
      "text/plain": [
       "        Año  Mes         Dia    Temp (C)  Temp Flag  \\\n",
       "count   744  744  744.000000  744.000000          0   \n",
       "mean   2012    3   16.000000    3.121237        NaN   \n",
       "std       0    0    8.950289    7.808771        NaN   \n",
       "min    2012    3    1.000000  -16.200000        NaN   \n",
       "25%    2012    3    8.000000   -2.025000        NaN   \n",
       "50%    2012    3   16.000000    2.600000        NaN   \n",
       "75%    2012    3   24.000000    7.600000        NaN   \n",
       "max    2012    3   31.000000   25.500000        NaN   \n",
       "\n",
       "       Temp. de punto de rocío (C)  Temp. de punto de rocío Flag  \\\n",
       "count                   744.000000                             0   \n",
       "mean                     -3.488575                           NaN   \n",
       "std                       8.293714                           NaN   \n",
       "min                     -22.600000                           NaN   \n",
       "25%                      -9.000000                           NaN   \n",
       "50%                      -2.500000                           NaN   \n",
       "75%                       1.650000                           NaN   \n",
       "max                      12.800000                           NaN   \n",
       "\n",
       "       Humedad relativa (%)  Humedad relativa Flag  \\\n",
       "count            744.000000                      0   \n",
       "mean              64.862903                    NaN   \n",
       "std               19.478739                    NaN   \n",
       "min               18.000000                    NaN   \n",
       "25%               51.000000                    NaN   \n",
       "50%               63.500000                    NaN   \n",
       "75%               82.000000                    NaN   \n",
       "max              100.000000                    NaN   \n",
       "\n",
       "       Dirección viento (10s deg)  Dirección viento Flag  \\\n",
       "count                  715.000000                      0   \n",
       "mean                    17.787413                    NaN   \n",
       "std                     11.265555                    NaN   \n",
       "min                      1.000000                    NaN   \n",
       "25%                      5.000000                    NaN   \n",
       "50%                     21.000000                    NaN   \n",
       "75%                     27.000000                    NaN   \n",
       "max                     36.000000                    NaN   \n",
       "\n",
       "       Velocidad viento (km/h)  Visibilidad (km)  Visibilidad Flag  \\\n",
       "count               744.000000        744.000000                 0   \n",
       "mean                 14.514785         26.177957               NaN   \n",
       "std                   9.282456         14.213380               NaN   \n",
       "min                   0.000000          0.200000               NaN   \n",
       "25%                   7.000000         24.100000               NaN   \n",
       "50%                  13.000000         25.000000               NaN   \n",
       "75%                  19.000000         25.000000               NaN   \n",
       "max                  63.000000         48.300000               NaN   \n",
       "\n",
       "       Presión ambiental (kPa)  Presión ambiental Flag       Hmdx  Hmdx Flag  \\\n",
       "count               744.000000                       0  12.000000          0   \n",
       "mean                101.335255                     NaN  26.000000        NaN   \n",
       "std                   0.844718                     NaN   1.044466        NaN   \n",
       "min                  98.670000                     NaN  25.000000        NaN   \n",
       "25%                 100.867500                     NaN  25.000000        NaN   \n",
       "50%                 101.480000                     NaN  26.000000        NaN   \n",
       "75%                 101.882500                     NaN  27.000000        NaN   \n",
       "max                 103.120000                     NaN  28.000000        NaN   \n",
       "\n",
       "       Factor de viento  \n",
       "count        242.000000  \n",
       "mean         -10.690083  \n",
       "std            5.300809  \n",
       "min          -27.000000  \n",
       "25%          -13.000000  \n",
       "50%          -10.000000  \n",
       "75%           -7.000000  \n",
       "max           -1.000000  "
      ]
     },
     "execution_count": 74,
     "metadata": {},
     "output_type": "execute_result"
    }
   ],
   "source": [
    "clima_mar2012.columns = [\n",
    "    u'Año', u'Mes', u'Dia', u'Hora', u'Calidad del dato', u'Temp (C)', \n",
    "    u'Temp Flag', u'Temp. de punto de rocío (C)', u'Temp. de punto de rocío Flag', \n",
    "    u'Humedad relativa (%)', u'Humedad relativa Flag', u'Dirección viento (10s deg)', u'Dirección viento Flag', \n",
    "    u'Velocidad viento (km/h)', u'Velocidad viento Flag', u'Visibilidad (km)', u'Visibilidad Flag',\n",
    "    u'Presión ambiental (kPa)', u'Presión ambiental Flag', u'Hmdx', u'Hmdx Flag', u'Factor de viento', \n",
    "    u'Factor de viento Flag', u'Clima']\n",
    "\n",
    "clima_mar2012.describe()"
   ]
  },
  {
   "cell_type": "markdown",
   "metadata": {},
   "source": [
    "## 2.2 Reducción de los datos"
   ]
  },
  {
   "cell_type": "markdown",
   "metadata": {},
   "source": [
    "Como podemos ver, varias de las columnas tienen puros valores tipo `NaN`, que en Pandas significa que el valor es faltante. Por el momento estas columnas vamos a eliminarlas de un tajo utilizando la función `dropna`.\n",
    "\n",
    "Igualmente, si el índice ya incluye fecha y hora, las columnas extras que representan Año, mes, día y hora pues son redundantes y también los vamos a eliminar, utilizando la función `drop`. Igualmente para la columna de calidad del dato que no parece tener información relevante. En ambos casos usamos la opción `axix=1` lo que significa que solamente queremos eliminar columnas."
   ]
  },
  {
   "cell_type": "code",
   "execution_count": 75,
   "metadata": {
    "collapsed": false
   },
   "outputs": [
    {
     "data": {
      "text/html": [
       "<div>\n",
       "<table border=\"1\" class=\"dataframe\">\n",
       "  <thead>\n",
       "    <tr style=\"text-align: right;\">\n",
       "      <th></th>\n",
       "      <th>Temp (C)</th>\n",
       "      <th>Temp. de punto de rocío (C)</th>\n",
       "      <th>Humedad relativa (%)</th>\n",
       "      <th>Velocidad viento (km/h)</th>\n",
       "      <th>Visibilidad (km)</th>\n",
       "      <th>Presión ambiental (kPa)</th>\n",
       "      <th>Clima</th>\n",
       "    </tr>\n",
       "    <tr>\n",
       "      <th>Date/Time</th>\n",
       "      <th></th>\n",
       "      <th></th>\n",
       "      <th></th>\n",
       "      <th></th>\n",
       "      <th></th>\n",
       "      <th></th>\n",
       "      <th></th>\n",
       "    </tr>\n",
       "  </thead>\n",
       "  <tbody>\n",
       "    <tr>\n",
       "      <th>2012-03-01 00:00:00</th>\n",
       "      <td>-5.5</td>\n",
       "      <td>-9.7</td>\n",
       "      <td>72</td>\n",
       "      <td>24</td>\n",
       "      <td>4.0</td>\n",
       "      <td>100.97</td>\n",
       "      <td>Snow</td>\n",
       "    </tr>\n",
       "    <tr>\n",
       "      <th>2012-03-01 01:00:00</th>\n",
       "      <td>-5.7</td>\n",
       "      <td>-8.7</td>\n",
       "      <td>79</td>\n",
       "      <td>26</td>\n",
       "      <td>2.4</td>\n",
       "      <td>100.87</td>\n",
       "      <td>Snow</td>\n",
       "    </tr>\n",
       "    <tr>\n",
       "      <th>2012-03-01 02:00:00</th>\n",
       "      <td>-5.4</td>\n",
       "      <td>-8.3</td>\n",
       "      <td>80</td>\n",
       "      <td>28</td>\n",
       "      <td>4.8</td>\n",
       "      <td>100.80</td>\n",
       "      <td>Snow</td>\n",
       "    </tr>\n",
       "    <tr>\n",
       "      <th>2012-03-01 03:00:00</th>\n",
       "      <td>-4.7</td>\n",
       "      <td>-7.7</td>\n",
       "      <td>79</td>\n",
       "      <td>28</td>\n",
       "      <td>4.0</td>\n",
       "      <td>100.69</td>\n",
       "      <td>Snow</td>\n",
       "    </tr>\n",
       "    <tr>\n",
       "      <th>2012-03-01 04:00:00</th>\n",
       "      <td>-5.4</td>\n",
       "      <td>-7.8</td>\n",
       "      <td>83</td>\n",
       "      <td>35</td>\n",
       "      <td>1.6</td>\n",
       "      <td>100.62</td>\n",
       "      <td>Snow</td>\n",
       "    </tr>\n",
       "    <tr>\n",
       "      <th>2012-03-01 05:00:00</th>\n",
       "      <td>-5.3</td>\n",
       "      <td>-7.9</td>\n",
       "      <td>82</td>\n",
       "      <td>33</td>\n",
       "      <td>2.4</td>\n",
       "      <td>100.58</td>\n",
       "      <td>Snow</td>\n",
       "    </tr>\n",
       "    <tr>\n",
       "      <th>2012-03-01 06:00:00</th>\n",
       "      <td>-5.2</td>\n",
       "      <td>-7.8</td>\n",
       "      <td>82</td>\n",
       "      <td>33</td>\n",
       "      <td>4.0</td>\n",
       "      <td>100.57</td>\n",
       "      <td>Snow</td>\n",
       "    </tr>\n",
       "    <tr>\n",
       "      <th>2012-03-01 07:00:00</th>\n",
       "      <td>-4.9</td>\n",
       "      <td>-7.4</td>\n",
       "      <td>83</td>\n",
       "      <td>30</td>\n",
       "      <td>1.6</td>\n",
       "      <td>100.59</td>\n",
       "      <td>Snow</td>\n",
       "    </tr>\n",
       "    <tr>\n",
       "      <th>2012-03-01 08:00:00</th>\n",
       "      <td>-5.0</td>\n",
       "      <td>-7.5</td>\n",
       "      <td>83</td>\n",
       "      <td>32</td>\n",
       "      <td>1.2</td>\n",
       "      <td>100.59</td>\n",
       "      <td>Snow</td>\n",
       "    </tr>\n",
       "    <tr>\n",
       "      <th>2012-03-01 09:00:00</th>\n",
       "      <td>-4.9</td>\n",
       "      <td>-7.5</td>\n",
       "      <td>82</td>\n",
       "      <td>32</td>\n",
       "      <td>1.6</td>\n",
       "      <td>100.60</td>\n",
       "      <td>Snow</td>\n",
       "    </tr>\n",
       "  </tbody>\n",
       "</table>\n",
       "</div>"
      ],
      "text/plain": [
       "                     Temp (C)  Temp. de punto de rocío (C)  \\\n",
       "Date/Time                                                    \n",
       "2012-03-01 00:00:00      -5.5                         -9.7   \n",
       "2012-03-01 01:00:00      -5.7                         -8.7   \n",
       "2012-03-01 02:00:00      -5.4                         -8.3   \n",
       "2012-03-01 03:00:00      -4.7                         -7.7   \n",
       "2012-03-01 04:00:00      -5.4                         -7.8   \n",
       "2012-03-01 05:00:00      -5.3                         -7.9   \n",
       "2012-03-01 06:00:00      -5.2                         -7.8   \n",
       "2012-03-01 07:00:00      -4.9                         -7.4   \n",
       "2012-03-01 08:00:00      -5.0                         -7.5   \n",
       "2012-03-01 09:00:00      -4.9                         -7.5   \n",
       "\n",
       "                     Humedad relativa (%)  Velocidad viento (km/h)  \\\n",
       "Date/Time                                                            \n",
       "2012-03-01 00:00:00                    72                       24   \n",
       "2012-03-01 01:00:00                    79                       26   \n",
       "2012-03-01 02:00:00                    80                       28   \n",
       "2012-03-01 03:00:00                    79                       28   \n",
       "2012-03-01 04:00:00                    83                       35   \n",
       "2012-03-01 05:00:00                    82                       33   \n",
       "2012-03-01 06:00:00                    82                       33   \n",
       "2012-03-01 07:00:00                    83                       30   \n",
       "2012-03-01 08:00:00                    83                       32   \n",
       "2012-03-01 09:00:00                    82                       32   \n",
       "\n",
       "                     Visibilidad (km)  Presión ambiental (kPa) Clima  \n",
       "Date/Time                                                             \n",
       "2012-03-01 00:00:00               4.0                   100.97  Snow  \n",
       "2012-03-01 01:00:00               2.4                   100.87  Snow  \n",
       "2012-03-01 02:00:00               4.8                   100.80  Snow  \n",
       "2012-03-01 03:00:00               4.0                   100.69  Snow  \n",
       "2012-03-01 04:00:00               1.6                   100.62  Snow  \n",
       "2012-03-01 05:00:00               2.4                   100.58  Snow  \n",
       "2012-03-01 06:00:00               4.0                   100.57  Snow  \n",
       "2012-03-01 07:00:00               1.6                   100.59  Snow  \n",
       "2012-03-01 08:00:00               1.2                   100.59  Snow  \n",
       "2012-03-01 09:00:00               1.6                   100.60  Snow  "
      ]
     },
     "execution_count": 75,
     "metadata": {},
     "output_type": "execute_result"
    }
   ],
   "source": [
    "clima_mar2012 = clima_mar2012.dropna(axis=1, how='any')\n",
    "clima_mar2012 = clima_mar2012.drop([u'Año', u'Mes', u'Dia', u'Hora', u'Calidad del dato'], axis=1)\n",
    "clima_mar2012.head(10)"
   ]
  },
  {
   "cell_type": "markdown",
   "metadata": {},
   "source": [
    "y ahora solo para ver que es lo que pasa, vamos a revisar la temperatura promedio por hora del día durante todo el més de marzo de 2012."
   ]
  },
  {
   "cell_type": "code",
   "execution_count": 76,
   "metadata": {
    "collapsed": false
   },
   "outputs": [
    {
     "data": {
      "text/plain": [
       "<matplotlib.axes._subplots.AxesSubplot at 0xd2d3d30>"
      ]
     },
     "execution_count": 76,
     "metadata": {},
     "output_type": "execute_result"
    },
    {
     "data": {
      "image/png": "[encoded data removed]",
      "text/plain": [
       "<matplotlib.figure.Figure at 0xe59c780>"
      ]
     },
     "metadata": {},
     "output_type": "display_data"
    }
   ],
   "source": [
    "temperatura = clima_mar2012[[u'Temp (C)']].copy()\n",
    "temperatura.loc[:, u'Hora'] = clima_mar2012.index.hour\n",
    "temperatura.groupby(u'Hora').aggregate(np.mean).plot()"
   ]
  },
  {
   "cell_type": "markdown",
   "metadata": {},
   "source": [
    "## 2.3 Obteniendo y combinando archivos históricos"
   ]
  },
  {
   "cell_type": "markdown",
   "metadata": {},
   "source": [
    "Ahora el objetivo es descargar los datos del clima a lo largo de todo el 2012. Para esto vamos a hacer una función en python que nos permita automatizar la tarea. \n"
   ]
  },
  {
   "cell_type": "code",
   "execution_count": 77,
   "metadata": {
    "collapsed": true
   },
   "outputs": [],
   "source": [
    "def descarga_mensual(year, month):\n",
    "    if month == 1:\n",
    "        year += 1\n",
    "    url = url_template.format(year=year, month=month)\n",
    "    df = pd.read_csv(url, skiprows=15, index_col='Date/Time', parse_dates=True)\n",
    "    df = df.dropna(axis=1)\n",
    "    df = df.drop(['Year', 'Day', 'Month', 'Time', 'Data Quality'], axis=1)\n",
    "    return df"
   ]
  },
  {
   "cell_type": "markdown",
   "metadata": {},
   "source": [
    "La función tiene un detallito, que es que cuando se pide el mes de enero, hay que pedirlo de un año adelante porque si no, pues nos regresa la información del mes pasado. Esto es un error del sistema canadiense de datos históricos de clima.\n",
    "\n",
    "Con esto, podemos recoger todos los meses en una lista de `DataFrames` y luego concatenarlas en el sentido de los renglones:"
   ]
  },
  {
   "cell_type": "code",
   "execution_count": 78,
   "metadata": {
    "collapsed": false
   },
   "outputs": [
    {
     "data": {
      "text/html": [
       "<div>\n",
       "<table border=\"1\" class=\"dataframe\">\n",
       "  <thead>\n",
       "    <tr style=\"text-align: right;\">\n",
       "      <th></th>\n",
       "      <th>Temp (C)</th>\n",
       "      <th>Temp. de punto de rocío (C)</th>\n",
       "      <th>Humedad relativa (%)</th>\n",
       "      <th>Velocidad viento (km/h)</th>\n",
       "      <th>Visibilidad (km)</th>\n",
       "      <th>Factor de viento</th>\n",
       "    </tr>\n",
       "  </thead>\n",
       "  <tbody>\n",
       "    <tr>\n",
       "      <th>count</th>\n",
       "      <td>8784.000000</td>\n",
       "      <td>8784.000000</td>\n",
       "      <td>8784.000000</td>\n",
       "      <td>8784.000000</td>\n",
       "      <td>8784.000000</td>\n",
       "      <td>8784.000000</td>\n",
       "    </tr>\n",
       "    <tr>\n",
       "      <th>mean</th>\n",
       "      <td>8.761646</td>\n",
       "      <td>2.537602</td>\n",
       "      <td>67.549408</td>\n",
       "      <td>14.917805</td>\n",
       "      <td>27.777561</td>\n",
       "      <td>101.077563</td>\n",
       "    </tr>\n",
       "    <tr>\n",
       "      <th>std</th>\n",
       "      <td>11.870757</td>\n",
       "      <td>11.125876</td>\n",
       "      <td>17.206340</td>\n",
       "      <td>8.733108</td>\n",
       "      <td>12.549831</td>\n",
       "      <td>0.848113</td>\n",
       "    </tr>\n",
       "    <tr>\n",
       "      <th>min</th>\n",
       "      <td>-27.100000</td>\n",
       "      <td>-34.100000</td>\n",
       "      <td>18.000000</td>\n",
       "      <td>0.000000</td>\n",
       "      <td>0.200000</td>\n",
       "      <td>97.070000</td>\n",
       "    </tr>\n",
       "    <tr>\n",
       "      <th>25%</th>\n",
       "      <td>0.400000</td>\n",
       "      <td>-5.500000</td>\n",
       "      <td>55.000000</td>\n",
       "      <td>9.000000</td>\n",
       "      <td>24.100000</td>\n",
       "      <td>100.590000</td>\n",
       "    </tr>\n",
       "    <tr>\n",
       "      <th>50%</th>\n",
       "      <td>9.300000</td>\n",
       "      <td>3.500000</td>\n",
       "      <td>68.000000</td>\n",
       "      <td>13.000000</td>\n",
       "      <td>25.000000</td>\n",
       "      <td>101.100000</td>\n",
       "    </tr>\n",
       "    <tr>\n",
       "      <th>75%</th>\n",
       "      <td>18.800000</td>\n",
       "      <td>11.800000</td>\n",
       "      <td>82.000000</td>\n",
       "      <td>20.000000</td>\n",
       "      <td>25.000000</td>\n",
       "      <td>101.620000</td>\n",
       "    </tr>\n",
       "    <tr>\n",
       "      <th>max</th>\n",
       "      <td>33.000000</td>\n",
       "      <td>24.400000</td>\n",
       "      <td>100.000000</td>\n",
       "      <td>69.000000</td>\n",
       "      <td>48.300000</td>\n",
       "      <td>103.650000</td>\n",
       "    </tr>\n",
       "  </tbody>\n",
       "</table>\n",
       "</div>"
      ],
      "text/plain": [
       "          Temp (C)  Temp. de punto de rocío (C)  Humedad relativa (%)  \\\n",
       "count  8784.000000                  8784.000000           8784.000000   \n",
       "mean      8.761646                     2.537602             67.549408   \n",
       "std      11.870757                    11.125876             17.206340   \n",
       "min     -27.100000                   -34.100000             18.000000   \n",
       "25%       0.400000                    -5.500000             55.000000   \n",
       "50%       9.300000                     3.500000             68.000000   \n",
       "75%      18.800000                    11.800000             82.000000   \n",
       "max      33.000000                    24.400000            100.000000   \n",
       "\n",
       "       Velocidad viento (km/h)  Visibilidad (km)  Factor de viento  \n",
       "count              8784.000000       8784.000000       8784.000000  \n",
       "mean                 14.917805         27.777561        101.077563  \n",
       "std                   8.733108         12.549831          0.848113  \n",
       "min                   0.000000          0.200000         97.070000  \n",
       "25%                   9.000000         24.100000        100.590000  \n",
       "50%                  13.000000         25.000000        101.100000  \n",
       "75%                  20.000000         25.000000        101.620000  \n",
       "max                  69.000000         48.300000        103.650000  "
      ]
     },
     "execution_count": 78,
     "metadata": {},
     "output_type": "execute_result"
    }
   ],
   "source": [
    "lista_meses = [descarga_mensual(2012, mes) for mes in range(1, 13)]\n",
    "clima2012 = pd.concat(lista_meses)\n",
    "clima2012.columns = [u'Temp (C)', u'Temp. de punto de rocío (C)',  u'Humedad relativa (%)', \n",
    "                     u'Velocidad viento (km/h)',  u'Visibilidad (km)', u'Factor de viento', u'Clima']\n",
    "\n",
    "clima2012.describe()"
   ]
  },
  {
   "cell_type": "markdown",
   "metadata": {},
   "source": [
    "Tenemos 8784 entradas, que para no volver a tener que leer de internet vamos a guardar en nuestro propio archivo CSV."
   ]
  },
  {
   "cell_type": "code",
   "execution_count": 82,
   "metadata": {
    "collapsed": false
   },
   "outputs": [],
   "source": [
    "clima2012.to_csv('clima2012.csv', encoding='latin1')"
   ]
  },
  {
   "cell_type": "markdown",
   "metadata": {},
   "source": [
    "## 2.4 Operaciones con cadenas de caracteres"
   ]
  },
  {
   "cell_type": "markdown",
   "metadata": {},
   "source": [
    "Vamos ahora a graficar la temperatura promedio mensual, utilizando el método `resample`:"
   ]
  },
  {
   "cell_type": "code",
   "execution_count": 83,
   "metadata": {
    "collapsed": false
   },
   "outputs": [
    {
     "data": {
      "text/plain": [
       "<matplotlib.axes._subplots.AxesSubplot at 0xed46710>"
      ]
     },
     "execution_count": 83,
     "metadata": {},
     "output_type": "execute_result"
    },
    {
     "data": {
      "image/png": "[encoded data removed]",
      "text/plain": [
       "<matplotlib.figure.Figure at 0xe59cda0>"
      ]
     },
     "metadata": {},
     "output_type": "display_data"
    }
   ],
   "source": [
    "clima2012['Temp (C)'].resample('M', how=np.mean).plot(kind='bar')"
   ]
  },
  {
   "cell_type": "markdown",
   "metadata": {},
   "source": [
    "Y ahora quisieramos poder visualizar si la temperatura tiene un comportamiento parecido al número de veces que nevó en un mes (claro, en este caso es algo bastante obvio, ya que es un ejemplo ilustrativo).\n",
    "\n",
    "Para esto, vamos a utilizar la columna Clima de nuestro `DataFrame`, en la cual, en cada momento, hay información en forma de cadenas de caracteres con las situaciones que se presentaron (niebla, lluvia, nieve, ...). Para esto utilizaremos el método `str.contains`, el cual devuelve `True` en caso que la cadena de caracteres se encuentre el el `DataFrame`. Sin embargo, si queremos saber el número de veces que nevó en un mes, es necesario convertir esa variable booleana en una variable numerica (flotante). Para eso utilizaremos el comando `astype`. Vamos a ponerlo todo en una sola linea."
   ]
  },
  {
   "cell_type": "code",
   "execution_count": 84,
   "metadata": {
    "collapsed": true
   },
   "outputs": [],
   "source": [
    "nevando = clima2012[u'Clima'].str.contains('Snow').astype(float).resample('M', how=np.mean)"
   ]
  },
  {
   "cell_type": "markdown",
   "metadata": {},
   "source": [
    "Y ahora los ponemos junto a la temperatura para hacer una gráfica conjunta."
   ]
  },
  {
   "cell_type": "code",
   "execution_count": 85,
   "metadata": {
    "collapsed": false
   },
   "outputs": [
    {
     "data": {
      "text/plain": [
       "array([<matplotlib.axes._subplots.AxesSubplot object at 0x000000000EF03BA8>,\n",
       "       <matplotlib.axes._subplots.AxesSubplot object at 0x000000000F1CC6D8>], dtype=object)"
      ]
     },
     "execution_count": 85,
     "metadata": {},
     "output_type": "execute_result"
    },
    {
     "data": {
      "image/png": "[encoded data removed]",
      "text/plain": [
       "<matplotlib.figure.Figure at 0xe76dc50>"
      ]
     },
     "metadata": {},
     "output_type": "display_data"
    }
   ],
   "source": [
    "temperatura = clima2012[u'Temp (C)'].resample('M', how=np.mean)\n",
    "temperatura.name = \"Temperatura promedio mensual (C)\"\n",
    "nevando.name = \"Porcentaje de horas nevando al mes\"\n",
    "\n",
    "pd.concat([temperatura, nevando], axis=1).plot(kind='bar', subplots=True, figsize=(15, 10))"
   ]
  },
  {
   "cell_type": "markdown",
   "metadata": {},
   "source": [
    "### Ejercicio 3 (30 puntos): Verifica si la lluvia tiene alguna relación con la velocidad del viento, o con la humedad relativa "
   ]
  },
  {
   "cell_type": "code",
   "execution_count": null,
   "metadata": {
    "collapsed": true
   },
   "outputs": [],
   "source": [
    "# Escribe aqui tu código"
   ]
  },
  {
   "cell_type": "markdown",
   "metadata": {},
   "source": [
    "### Ejercicio 4 (30 puntos): Mezcla las bases de clima y la de las bicicletas, para revisar si hay alguna relación entre alguna variable climática y el uso de la bicicleta como medio de transporte"
   ]
  },
  {
   "cell_type": "code",
   "execution_count": null,
   "metadata": {
    "collapsed": true
   },
   "outputs": [],
   "source": [
    "# Escribe aqui tu código"
   ]
  }
 ],
 "metadata": {
  "kernelspec": {
   "display_name": "Python 2",
   "language": "python",
   "name": "python2"
  },
  "language_info": {
   "codemirror_mode": {
    "name": "ipython",
    "version": 2
   },
   "file_extension": ".py",
   "mimetype": "text/x-python",
   "name": "python",
   "nbconvert_exporter": "python",
   "pygments_lexer": "ipython2",
   "version": "2.7.10"
  }
 },
 "nbformat": 4,
 "nbformat_minor": 0
}
